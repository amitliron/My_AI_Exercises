{
 "cells": [
  {
   "cell_type": "markdown",
   "id": "146f7472",
   "metadata": {},
   "source": [
    "<H1 style=\"background-color:powderblue;\">\n",
    "    <center>\n",
    "         Kaggle\n",
    "     </center>\n",
    " </H1>"
   ]
  },
  {
   "cell_type": "markdown",
   "id": "ad6d8b6b",
   "metadata": {},
   "source": [
    "https://www.kaggle.com/datasets/mariafrenti/age-prediction"
   ]
  },
  {
   "cell_type": "code",
   "execution_count": null,
   "id": "e5b39379",
   "metadata": {},
   "outputs": [],
   "source": []
  },
  {
   "cell_type": "markdown",
   "id": "460a88ea",
   "metadata": {},
   "source": [
    "<H1 style=\"background-color:powderblue;\">\n",
    "    <center>\n",
    "         Imports\n",
    "     </center>\n",
    " </H1>"
   ]
  },
  {
   "cell_type": "code",
   "execution_count": null,
   "id": "5346787a",
   "metadata": {},
   "outputs": [],
   "source": [
    "#-- Auto reload:\n",
    "%load_ext autoreload\n",
    "%autoreload 2"
   ]
  },
  {
   "cell_type": "code",
   "execution_count": null,
   "id": "9501d5bf",
   "metadata": {},
   "outputs": [],
   "source": []
  },
  {
   "cell_type": "code",
   "execution_count": null,
   "id": "169b3bcc",
   "metadata": {},
   "outputs": [],
   "source": [
    "from matplotlib                          import pyplot\n",
    "from matplotlib.image                    import imread\n",
    "from torchvision.datasets                import ImageFolder\n",
    "from torch.optim.lr_scheduler            import OneCycleLR\n",
    "from sklearn.metrics                     import r2_score\n",
    "\n",
    "\n",
    "import numpy                  as np\n",
    "import matplotlib.pyplot      as plt\n",
    "import matplotlib.image       as mpimg\n",
    "import torchvision.transforms as transforms\n",
    "import torch.nn               as nn\n",
    "import torch.nn.functional    as F\n",
    "import torch.optim            as optim\n",
    "import torchinfo\n",
    "\n",
    "\n",
    "import torch\n",
    "import os\n",
    "import random\n",
    "import matplotlib\n",
    "import torchvision\n",
    "import torchinfo\n",
    "import gc \n",
    "import os\n",
    "import time\n"
   ]
  },
  {
   "cell_type": "markdown",
   "id": "cdc8e5c9",
   "metadata": {},
   "source": [
    "<H1 style=\"background-color:powderblue;\">\n",
    "    <center>\n",
    "         Load Data\n",
    "     </center>\n",
    " </H1>"
   ]
  },
  {
   "cell_type": "code",
   "execution_count": null,
   "id": "1be9c664",
   "metadata": {},
   "outputs": [],
   "source": [
    "TRAIN_FOLDER = \"/home/amitli/Datasets/Age prediction/20-50/train\"\n",
    "TEST_FOLDER  = \"/home/amitli/Datasets/Age prediction/20-50/test\"\n",
    "\n",
    "\n",
    " #-- ImageNet statistics:\n",
    "vMean = np.array([0.48501961, 0.45795686, 0.40760392])\n",
    "vStd  = np.array([0.22899216, 0.224     , 0.225     ])\n",
    "\n",
    "oTransforms = transforms.Compose([\n",
    "    #transforms.Resize    (224),\n",
    "    #transforms.CenterCrop(224),\n",
    "    transforms.ToTensor  (),\n",
    "    transforms.Normalize (mean=vMean, std=vStd),\n",
    "])\n",
    "\n",
    "\n",
    "batchSize            = 32\n",
    "oDataSet             = ImageFolder(root=TRAIN_FOLDER, transform=oTransforms)\n",
    "oTrainSet, oTestSet  = torch.utils.data.random_split(oDataSet, np.round([0.9 * len(oDataSet), 0.1 * len(oDataSet)]).astype(int))\n",
    "\n",
    "oTrainSet.transform  = oTransforms\n",
    "oTestSet .transform  = oTransforms\n",
    "\n",
    "oTrainDL  = torch.utils.data.DataLoader(oTrainSet,   batch_size=batchSize, num_workers=2, persistent_workers=True)\n",
    "oTestDL   = torch.utils.data.DataLoader(oTestSet,    batch_size=batchSize, num_workers=2, persistent_workers=True)"
   ]
  },
  {
   "cell_type": "code",
   "execution_count": null,
   "id": "42b4133e",
   "metadata": {},
   "outputs": [],
   "source": []
  },
  {
   "cell_type": "markdown",
   "id": "7e43d444",
   "metadata": {},
   "source": [
    "<H1 style=\"background-color:powderblue;\">\n",
    "    <center>\n",
    "         EDA\n",
    "     </center>\n",
    " </H1>"
   ]
  },
  {
   "cell_type": "code",
   "execution_count": null,
   "id": "cc23de04",
   "metadata": {},
   "outputs": [],
   "source": [
    "x, y = next(iter(oTrainDL))\n",
    "print (x[0].shape)"
   ]
  },
  {
   "cell_type": "code",
   "execution_count": null,
   "id": "2c9214bb",
   "metadata": {},
   "outputs": [],
   "source": []
  },
  {
   "cell_type": "code",
   "execution_count": null,
   "id": "ad1e6a05",
   "metadata": {},
   "outputs": [],
   "source": [
    "f, axarr = plt.subplots(10,3)\n",
    "\n",
    "from matplotlib.pyplot import figure\n",
    "figure(figsize=(16, 16))\n",
    "\n",
    "for catgory in range(0,3):\n",
    "    for age in range (20, 30):\n",
    "       \n",
    "        image_age = age + 10*catgory       \n",
    "        img_path  = f\"{TRAIN_FOLDER}/{image_age}/\"\n",
    "        img_file  = random.choice(os.listdir(img_path))\n",
    "        img_fp    = f\"{img_path}/{img_file}\"\n",
    "        img       = mpimg.imread(img_fp)       \n",
    "        axarr[age-20,catgory].imshow(img)\n",
    "        axarr[age-20,catgory].axis('off')\n",
    "\n"
   ]
  },
  {
   "cell_type": "markdown",
   "id": "d48ba985",
   "metadata": {},
   "source": [
    "<H1 style=\"background-color:powderblue;\">\n",
    "    <center>\n",
    "         Prepare GPU\n",
    "     </center>\n",
    " </H1>"
   ]
  },
  {
   "cell_type": "code",
   "execution_count": null,
   "id": "7543e38b",
   "metadata": {},
   "outputs": [],
   "source": [
    "DEVICE = torch.device(\"cuda:0\" if torch.cuda.is_available() else \"cpu\") \n",
    "print(DEVICE)"
   ]
  },
  {
   "cell_type": "code",
   "execution_count": null,
   "id": "955833bc",
   "metadata": {},
   "outputs": [],
   "source": []
  },
  {
   "cell_type": "code",
   "execution_count": null,
   "id": "778a78fa",
   "metadata": {},
   "outputs": [],
   "source": [
    "\n",
    "def R2Score(vHatY, vY):\n",
    "    vY    = vY   .detach().cpu().view(-1)\n",
    "    vHatY = vHatY.detach().cpu().view(-1)\n",
    "    return r2_score(vY, vHatY)"
   ]
  },
  {
   "cell_type": "code",
   "execution_count": null,
   "id": "9455838a",
   "metadata": {},
   "outputs": [],
   "source": []
  },
  {
   "cell_type": "code",
   "execution_count": null,
   "id": "06df5b9d",
   "metadata": {},
   "outputs": [],
   "source": [
    "def Accuracy(mScore, vY):\n",
    "    vHatY = mScore.detach().argmax(dim=1)\n",
    "    return (vHatY == vY).float().mean().item()"
   ]
  },
  {
   "cell_type": "code",
   "execution_count": null,
   "id": "e96335a2",
   "metadata": {},
   "outputs": [],
   "source": []
  },
  {
   "cell_type": "code",
   "execution_count": null,
   "id": "2305de47",
   "metadata": {},
   "outputs": [],
   "source": [
    "def GetPretrainedModel():\n",
    "    oModel = torchvision.models.resnet50(pretrained=True)\n",
    "    #-- freeze weights:\n",
    "    for mParam in oModel.parameters():\n",
    "        if False == isinstance(mParam, nn.BatchNorm2d):\n",
    "            mParam.requires_grad = False\n",
    "        \n",
    "    #-- Replace classifier head:\n",
    "    dIn       = oModel.fc.in_features\n",
    "    oModel.fc = nn.Sequential(\n",
    "        nn.Linear(dIn, 512), nn.ReLU(),\n",
    "        nn.Linear(512, 256), nn.ReLU(),\n",
    "        nn.Linear(256, 128), nn.ReLU(),\n",
    "        nn.Linear(128, 1)        \n",
    "    )\n",
    "    \n",
    "    return oModel\n",
    "\n",
    "torchinfo.summary(GetPretrainedModel(), (32, 3, 128, 128))"
   ]
  },
  {
   "cell_type": "code",
   "execution_count": null,
   "id": "10fc768f",
   "metadata": {},
   "outputs": [],
   "source": []
  },
  {
   "cell_type": "code",
   "execution_count": null,
   "id": "72b0afc3",
   "metadata": {},
   "outputs": [],
   "source": [
    "def Epoch(oModel, oDataDL, Loss, Metric, oOptim=None, oScheduler=None, bTrain=True):\n",
    "\n",
    "    epochLoss   = 0\n",
    "    epochMetric = 0\n",
    "    count       = 0\n",
    "    nIter       = len(oDataDL)\n",
    "    vLR         = np.full(nIter, np.nan)\n",
    "    DEVICE      = next(oModel.parameters()).device #-- CPU\\GPU\n",
    "\n",
    "\n",
    "    oModel.train(bTrain) #-- train or test\n",
    "\n",
    "    #-- Iterate over the mini-batches:\n",
    "    for ii, (mX, vY) in enumerate(oDataDL):\n",
    "        #-- Move to device (CPU\\GPU):\n",
    "        mX = mX.to(DEVICE)\n",
    "        vY = vY.type(torch.FloatTensor)\n",
    "        vY = vY.to(DEVICE)\n",
    "                \n",
    "        #-- Forward:\n",
    "        if bTrain == True:\n",
    "            #-- Store computational graph:\n",
    "            mZ   = oModel(mX)        \n",
    "            mZ   = mZ.squeeze()            \n",
    "            loss = Loss(mZ, vY)     \n",
    "           \n",
    "        else:\n",
    "           \n",
    "            with torch.no_grad():\n",
    "                #-- Do not store computational graph:\n",
    "                mZ   = oModel(mX)\n",
    "                mZ   = mZ.squeeze()\n",
    "                loss = Loss(mZ, vY)\n",
    "\n",
    "        #-- Backward:\n",
    "        if bTrain == True:\n",
    "            oOptim.zero_grad() #-- set gradients to zeros           \n",
    "            loss.backward()    #-- backward\n",
    "            oOptim.step()      #-- update parameters\n",
    "            if oScheduler is not None:\n",
    "                vLR[ii] = oScheduler.get_last_lr()[0]\n",
    "                oScheduler.step() #-- update learning rate\n",
    "\n",
    "        Nb           = vY.shape[0]\n",
    "        count       += Nb\n",
    "        epochLoss   += Nb * loss.item()\n",
    "        epochMetric += Nb * Metric(mZ, vY)\n",
    "        print(f'\\r{\"Train\" if bTrain else \"Val\"} - Iteration: {ii:3d} ({nIter}): loss = {loss:2.6f}', end='')\n",
    "\n",
    "    print('', end='\\r')\n",
    "    epochLoss   /= count\n",
    "    epochMetric /= count\n",
    "\n",
    "    return epochLoss, epochMetric, vLR"
   ]
  },
  {
   "cell_type": "code",
   "execution_count": null,
   "id": "b77b6524",
   "metadata": {},
   "outputs": [],
   "source": [
    "def TrainModel(oModel, oTrainData, oValData, Loss, Metric, nEpochs, oOptim, oScheduler=None, Epoch=Epoch, sModelName='BestParams'):\n",
    "\n",
    "    vTrainLoss   = np.full(nEpochs, np.nan)\n",
    "    vTrainMetric = np.full(nEpochs, np.nan)\n",
    "    vValLoss     = np.full(nEpochs, np.nan)\n",
    "    vValMetric   = np.full(nEpochs, np.nan)\n",
    "    vLR          = np.full(0,       np.nan)\n",
    "    bestMetric   = -float('inf')\n",
    "\n",
    "    for epoch in range(nEpochs):\n",
    "        startTime                    = time.time()\n",
    "        trainLoss, trainMetric, vLRi = Epoch(oModel, oTrainData, Loss, Metric, oOptim, oScheduler, bTrain=True ) #-- train\n",
    "        valLoss,   valMetric,   _    = Epoch(oModel, oValData,   Loss, Metric,                     bTrain=False) #-- validate\n",
    "        epochTime                    = time.time() - startTime\n",
    "\n",
    "        #-- Display:\n",
    "        if epoch % 10 == 0:\n",
    "            print('-' * 120)\n",
    "        print('Epoch '            f'{epoch       :03d}:',   end='')\n",
    "        print(' | Train loss: '   f'{trainLoss   :6.3f}',   end='')\n",
    "        print(' | Val loss: '     f'{valLoss     :6.3f}',   end='')\n",
    "        print(' | Train Metric: ' f'{trainMetric :6.3f}',   end='')\n",
    "        print(' | Val Metric: '   f'{valMetric   :6.3f}',   end='')\n",
    "        print(' | epoch time: '   f'{epochTime   :6.3f} |', end='')\n",
    "\n",
    "        vTrainLoss  [epoch] = trainLoss\n",
    "        vTrainMetric[epoch] = trainMetric\n",
    "        vValLoss    [epoch] = valLoss\n",
    "        vValMetric  [epoch] = valMetric\n",
    "        vLR                 = np.concatenate([vLR, vLRi])\n",
    "\n",
    "        #-- Save best model (early stopping):\n",
    "        if valMetric > bestMetric:\n",
    "            bestMetric = valMetric\n",
    "            try   : torch.save(oModel.state_dict(), sModelName + '.pt')\n",
    "            except: pass\n",
    "            print(' <-- Checkpoint!')\n",
    "        else:\n",
    "            print('')\n",
    "\n",
    "    #-- Load best model (early stopping):\n",
    "    oModel.load_state_dict(torch.load(sModelName + '.pt'))\n",
    "\n",
    "    return vTrainLoss, vTrainMetric, vValLoss, vValMetric, vLR"
   ]
  },
  {
   "cell_type": "code",
   "execution_count": null,
   "id": "268168a5",
   "metadata": {},
   "outputs": [],
   "source": []
  },
  {
   "cell_type": "code",
   "execution_count": null,
   "id": "fb3de3b6",
   "metadata": {},
   "outputs": [],
   "source": []
  },
  {
   "cell_type": "markdown",
   "id": "a8e77fb8",
   "metadata": {},
   "source": [
    "<H1 style=\"background-color:Orange;\">\n",
    "    <center>\n",
    "         We can train and test with R2 (MSE) - how much we are close to real age\n",
    "     </center>\n",
    " </H1>"
   ]
  },
  {
   "cell_type": "code",
   "execution_count": null,
   "id": "9433777f",
   "metadata": {},
   "outputs": [],
   "source": []
  },
  {
   "cell_type": "code",
   "execution_count": null,
   "id": "175d8a56",
   "metadata": {},
   "outputs": [],
   "source": []
  },
  {
   "cell_type": "code",
   "execution_count": null,
   "id": "f29c291c",
   "metadata": {},
   "outputs": [],
   "source": []
  },
  {
   "cell_type": "code",
   "execution_count": null,
   "id": "d58c6bb7",
   "metadata": {},
   "outputs": [],
   "source": [
    "nEpochs    = 30\n",
    "nIter      = nEpochs * len(oTrainDL)\n",
    "Loss       = nn.MSELoss  ()\n",
    "Metric     = R2Score\n",
    "\n",
    "oModel     = GetPretrainedModel     ().to(DEVICE)\n",
    "oOptim     = optim.AdamW            (oModel.parameters(), lr=1e-4, betas=(0.9, 0.99), weight_decay=2e-4)\n",
    "oScheduler = OneCycleLR             (oOptim, max_lr=2e-2, total_steps=nIter)\n",
    "\n",
    "\n",
    "lHistory   = TrainModel(oModel, oTrainDL, oTestDL, Loss, Metric, nEpochs, oOptim, oScheduler, \n",
    "                        Epoch=Epoch, sModelName='Regression')"
   ]
  },
  {
   "cell_type": "code",
   "execution_count": null,
   "id": "ce97ada3",
   "metadata": {},
   "outputs": [],
   "source": []
  },
  {
   "cell_type": "code",
   "execution_count": null,
   "id": "0e6eaf9b",
   "metadata": {},
   "outputs": [],
   "source": []
  },
  {
   "cell_type": "code",
   "execution_count": null,
   "id": "443e7923",
   "metadata": {},
   "outputs": [],
   "source": [
    "oModel.train(False) \n",
    "\n",
    "mX, vY = next(iter(oTestDL))\n",
    "mX     = mX.to(DEVICE)\n",
    "hatY   = oModel(mX)\n",
    "\n",
    "hatY = hatY.squeeze().cpu().detach().numpy()\n",
    "y    = vY.cpu().numpy()\n",
    "for i in range(len(r)):    \n",
    "    print('y:{0:3d}, yHat:{1:3d}, diff:{2:4d}'.format(int(y[i]), int(hatY[i]), abs(int(hatY[i])-int(y[i]))))\n",
    " "
   ]
  }
 ],
 "metadata": {
  "kernelspec": {
   "display_name": "Python 3 (ipykernel)",
   "language": "python",
   "name": "python3"
  },
  "language_info": {
   "codemirror_mode": {
    "name": "ipython",
    "version": 3
   },
   "file_extension": ".py",
   "mimetype": "text/x-python",
   "name": "python",
   "nbconvert_exporter": "python",
   "pygments_lexer": "ipython3",
   "version": "3.8.10"
  }
 },
 "nbformat": 4,
 "nbformat_minor": 5
}
